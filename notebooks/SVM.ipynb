{
  "nbformat": 4,
  "nbformat_minor": 0,
  "metadata": {
    "colab": {
      "name": "SVM.ipynb",
      "provenance": [],
      "collapsed_sections": []
    },
    "kernelspec": {
      "name": "python3",
      "display_name": "Python 3"
    },
    "accelerator": "GPU"
  },
  "cells": [
    {
      "cell_type": "code",
      "metadata": {
        "id": "wrbzx-PreXbR",
        "colab_type": "code",
        "outputId": "03aaf1bf-25b6-4963-84a4-7806922cc8c0",
        "colab": {
          "base_uri": "https://localhost:8080/",
          "height": 124
        }
      },
      "source": [
        "from google.colab import drive\n",
        "drive.mount('/content/drive/')"
      ],
      "execution_count": 3,
      "outputs": [
        {
          "output_type": "stream",
          "text": [
            "Go to this URL in a browser: https://accounts.google.com/o/oauth2/auth?client_id=947318989803-6bn6qk8qdgf4n4g3pfee6491hc0brc4i.apps.googleusercontent.com&redirect_uri=urn%3aietf%3awg%3aoauth%3a2.0%3aoob&response_type=code&scope=email%20https%3a%2f%2fwww.googleapis.com%2fauth%2fdocs.test%20https%3a%2f%2fwww.googleapis.com%2fauth%2fdrive%20https%3a%2f%2fwww.googleapis.com%2fauth%2fdrive.photos.readonly%20https%3a%2f%2fwww.googleapis.com%2fauth%2fpeopleapi.readonly\n",
            "\n",
            "Enter your authorization code:\n",
            "··········\n",
            "Mounted at /content/drive/\n"
          ],
          "name": "stdout"
        }
      ]
    },
    {
      "cell_type": "code",
      "metadata": {
        "id": "xS-KmutddVD2",
        "colab_type": "code",
        "outputId": "484cf94f-368d-4e5e-9dd2-1489c368a278",
        "colab": {
          "base_uri": "https://localhost:8080/",
          "height": 104
        }
      },
      "source": [
        "import pandas as pd\n",
        "import numpy as np\n",
        "from sklearn.feature_extraction.text import TfidfVectorizer\n",
        "from sklearn.preprocessing import LabelEncoder\n",
        "from sklearn.model_selection import cross_val_score\n",
        "from sklearn import linear_model\n",
        "from sklearn.metrics import accuracy_score\n",
        "from sklearn.naive_bayes import MultinomialNB\n",
        "from sklearn.svm import LinearSVC\n",
        "from sklearn.feature_selection import SelectPercentile, chi2\n",
        "from sklearn.neural_network import MLPClassifier\n",
        "from sklearn.linear_model import LogisticRegression\n",
        "from sklearn.utils import shuffle\n",
        "from sklearn.naive_bayes import MultinomialNB\n",
        "\n",
        "# Read Data\n",
        "df = shuffle(pd.read_csv('drive/My Drive/Colab Notebooks/dataset/yelp2013train.ss',sep='\\t\\t', names=[\"user\", \"business(product)\", \"rating\", \"review\"])).reset_index()\n",
        "df = df[0:60000]\n",
        "\n",
        "# Pre- processing \n",
        "tfidf_vectorizer = TfidfVectorizer(max_df=0.1,smooth_idf=False, max_features=None,\n",
        "                   stop_words=['english'],sublinear_tf=True, tokenizer=None, use_idf=True)\n",
        "# TF-IDF feature matrix\n",
        "tfidf = tfidf_vectorizer.fit_transform(df['review'])\n",
        "X_train = tfidf\n",
        "\n",
        "# Target labels\n",
        "le = LabelEncoder()\n",
        "df['label'] = le.fit_transform(df['rating'])\n",
        "y_train = df['label'].to_numpy()\n",
        "\n",
        "# # Feature reduction\n",
        "# select_best = SelectPercentile(chi2, percentile=23)\n",
        "# X_train = select_best.fit_transform(tfidf, y_train)\n",
        "\n",
        "\n",
        "models = [\n",
        "       LogisticRegression(C=1, penalty='l1'),\n",
        "       LinearSVC(C=1),\n",
        "       MultinomialNB(alpha=1.0)\n",
        "]\n",
        "\n",
        "# Cross validation\n",
        "Cross_validation_fold = 5\n",
        "cv_df = pd.DataFrame(index=range(Cross_validation_fold * len(models)))\n",
        "entries = []\n",
        "for model in models:\n",
        "  model_name = type(model).__name__\n",
        "  accuracies = cross_val_score(model, X_train, y_train, scoring='accuracy',n_jobs=-1, cv=Cross_validation_fold)\n",
        "  for fold_idx, accuracy in enumerate(accuracies):\n",
        "    entries.append((model_name, fold_idx, accuracy))\n",
        "cv_df = pd.DataFrame(entries, columns=['model_name', 'fold_index', 'accuracy'])\n",
        "cv_df.groupby('model_name').accuracy.mean()"
      ],
      "execution_count": 49,
      "outputs": [
        {
          "output_type": "execute_result",
          "data": {
            "text/plain": [
              "model_name\n",
              "LinearSVC             0.501750\n",
              "LogisticRegression    0.529817\n",
              "MultinomialNB         0.423933\n",
              "Name: accuracy, dtype: float64"
            ]
          },
          "metadata": {
            "tags": []
          },
          "execution_count": 49
        }
      ]
    },
    {
      "cell_type": "markdown",
      "metadata": {
        "id": "g_e62fW8vJPu",
        "colab_type": "text"
      },
      "source": [
        "**Preprocessing**\n"
      ]
    },
    {
      "cell_type": "code",
      "metadata": {
        "id": "QvvJinyPfw6_",
        "colab_type": "code",
        "colab": {
          "base_uri": "https://localhost:8080/",
          "height": 54
        },
        "outputId": "c1cd593a-e47e-4d51-abdf-3105a92c0a24"
      },
      "source": [
        "import pandas as pd\n",
        "import numpy as np\n",
        "from sklearn.feature_extraction.text import TfidfVectorizer\n",
        "from sklearn.preprocessing import LabelEncoder\n",
        "from sklearn.model_selection import cross_val_score\n",
        "from sklearn import linear_model\n",
        "from sklearn.metrics import accuracy_score\n",
        "from sklearn.naive_bayes import MultinomialNB\n",
        "from sklearn.svm import LinearSVC\n",
        "from sklearn.feature_selection import SelectPercentile, chi2\n",
        "from sklearn.neural_network import MLPClassifier\n",
        "from sklearn.linear_model import LogisticRegression\n",
        "from sklearn.utils import shuffle\n",
        "from sklearn.naive_bayes import MultinomialNB\n",
        "from sklearn.pipeline import Pipeline\n",
        "from sklearn.model_selection import GridSearchCV\n",
        "\n",
        "\n",
        "# Read Data\n",
        "df = shuffle(pd.read_csv('drive/My Drive/Colab Notebooks/dataset/yelp2013train.ss',sep='\\t\\t', names=[\"user\", \"business(product)\", \"rating\", \"review\"])).reset_index()\n",
        "df = df[0:60000]\n",
        "\n",
        "# Pre- processing \n",
        "tfidf_vectorizer = TfidfVectorizer(max_df=0.1,smooth_idf=False, max_features=None,\n",
        "                   stop_words=['english'],sublinear_tf=True, tokenizer=None, use_idf=True)\n",
        "# TF-IDF feature matrix\n",
        "tfidf = tfidf_vectorizer.fit_transform(df['review'])\n",
        "# X_train = tfidf\n",
        "\n",
        "# Target labels\n",
        "le = LabelEncoder()\n",
        "df['label'] = le.fit_transform(df['rating'])\n",
        "y = df['label'].to_numpy()\n",
        "\n",
        "# Feature reduction\n",
        "select_best = SelectPercentile(chi2, percentile=23)\n",
        "X = select_best.fit_transform(tfidf, y_train)\n",
        "\n",
        "from sklearn.model_selection import train_test_split\n",
        "X_train, X_val, y_train, y_val = train_test_split(X,y, test_size = 0.20)\n"
      ],
      "execution_count": 11,
      "outputs": [
        {
          "output_type": "stream",
          "text": [
            "/usr/local/lib/python3.6/dist-packages/ipykernel_launcher.py:20: ParserWarning: Falling back to the 'python' engine because the 'c' engine does not support regex separators (separators > 1 char and different from '\\s+' are interpreted as regex); you can avoid this warning by specifying engine='python'.\n"
          ],
          "name": "stderr"
        }
      ]
    },
    {
      "cell_type": "markdown",
      "metadata": {
        "id": "YmsooWFAvbZr",
        "colab_type": "text"
      },
      "source": [
        "**Hyperparameter** **tuning**"
      ]
    },
    {
      "cell_type": "code",
      "metadata": {
        "id": "hWFYSG8guYka",
        "colab_type": "code",
        "colab": {}
      },
      "source": [
        "LR = LogisticRegression(solver='lbfgs', multi_class='multinomial',  max_iter=1000)\n",
        "\n",
        "# Create regularization hyperparameter space\n",
        "C = np.linspace(0,5,20)\n",
        "\n",
        "# Create hyperparameter options\n",
        "hyperparameters = dict(C=C)\n",
        "clf = GridSearchCV(LR, hyperparameters, cv=5, verbose=0)\n",
        "best_model = clf.fit(X_val, y_val)\n",
        "print('Best C:', best_model.best_estimator_.get_params()['C'])"
      ],
      "execution_count": 0,
      "outputs": []
    },
    {
      "cell_type": "code",
      "metadata": {
        "id": "1pHTenGLv2fw",
        "colab_type": "code",
        "colab": {}
      },
      "source": [
        ""
      ],
      "execution_count": 0,
      "outputs": []
    },
    {
      "cell_type": "code",
      "metadata": {
        "id": "lVArBwfGupgw",
        "colab_type": "code",
        "colab": {
          "base_uri": "https://localhost:8080/",
          "height": 34
        },
        "outputId": "d41a1dc6-b424-47ea-832d-199cf19ac515"
      },
      "source": [
        "SVM =  LinearSVC()\n",
        "# Create regularization hyperparameter space\n",
        "C = np.linspace(1,1.5,30)\n",
        "\n",
        "# Create hyperparameter options\n",
        "hyperparameters = dict(C=C)\n",
        "clf = GridSearchCV(SVM, hyperparameters, cv=5, verbose=0)\n",
        "best_model_svm = clf.fit(X_val, y_val)\n",
        "\n",
        "print('Best C:', best_model_svm.best_estimator_.get_params()['C'])"
      ],
      "execution_count": 45,
      "outputs": [
        {
          "output_type": "stream",
          "text": [
            "Best C: 1.0\n"
          ],
          "name": "stdout"
        }
      ]
    },
    {
      "cell_type": "code",
      "metadata": {
        "id": "n1tqoimEwbBK",
        "colab_type": "code",
        "colab": {
          "base_uri": "https://localhost:8080/",
          "height": 34
        },
        "outputId": "4794fd58-12e7-4bc3-89c9-36b51a6417df"
      },
      "source": [
        "MNB = MultinomialNB()\n",
        "# Create regularization hyperparameter space\n",
        "alpha = np.linspace(1,1.2,20)\n",
        "\n",
        "# Create hyperparameter options\n",
        "hyperparameters = dict(alpha=alpha)\n",
        "clf = GridSearchCV(MNB, hyperparameters, cv=5, verbose=0)\n",
        "best_model_mnb = clf.fit(X_val, y_val)\n",
        "\n",
        "print('Best alpha:', best_model_mnb.best_estimator_.get_params()['alpha'])"
      ],
      "execution_count": 32,
      "outputs": [
        {
          "output_type": "stream",
          "text": [
            "Best alpha: 1.0\n"
          ],
          "name": "stdout"
        }
      ]
    },
    {
      "cell_type": "code",
      "metadata": {
        "id": "lp7681Sa2Pim",
        "colab_type": "code",
        "colab": {}
      },
      "source": [
        ""
      ],
      "execution_count": 0,
      "outputs": []
    }
  ]
}
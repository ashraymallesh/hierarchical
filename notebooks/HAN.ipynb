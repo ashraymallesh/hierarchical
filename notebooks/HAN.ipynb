{
  "nbformat": 4,
  "nbformat_minor": 0,
  "metadata": {
    "colab": {
      "name": "HAN.ipynb",
      "provenance": [],
      "machine_shape": "hm"
    },
    "kernelspec": {
      "name": "python3",
      "display_name": "Python 3"
    },
    "accelerator": "GPU"
  },
  "cells": [
    {
      "cell_type": "code",
      "metadata": {
        "id": "1AxWdTaMa2Xr",
        "colab_type": "code",
        "outputId": "2b0879dd-5f35-48b4-895f-4c0a3ac557fb",
        "colab": {
          "base_uri": "https://localhost:8080/",
          "height": 124
        }
      },
      "source": [
        "from google.colab import drive\n",
        "drive.mount('/content/drive', force_remount=True)"
      ],
      "execution_count": 1,
      "outputs": [
        {
          "output_type": "stream",
          "text": [
            "Go to this URL in a browser: https://accounts.google.com/o/oauth2/auth?client_id=947318989803-6bn6qk8qdgf4n4g3pfee6491hc0brc4i.apps.googleusercontent.com&redirect_uri=urn%3aietf%3awg%3aoauth%3a2.0%3aoob&response_type=code&scope=email%20https%3a%2f%2fwww.googleapis.com%2fauth%2fdocs.test%20https%3a%2f%2fwww.googleapis.com%2fauth%2fdrive%20https%3a%2f%2fwww.googleapis.com%2fauth%2fdrive.photos.readonly%20https%3a%2f%2fwww.googleapis.com%2fauth%2fpeopleapi.readonly\n",
            "\n",
            "Enter your authorization code:\n",
            "··········\n",
            "Mounted at /content/drive\n"
          ],
          "name": "stdout"
        }
      ]
    },
    {
      "cell_type": "code",
      "metadata": {
        "id": "HPN2ictFkQQj",
        "colab_type": "code",
        "outputId": "d92d9029-51b4-48fa-def4-78e575611f72",
        "colab": {
          "base_uri": "https://localhost:8080/",
          "height": 69
        }
      },
      "source": [
        " import nltk\n",
        " nltk.download('punkt')"
      ],
      "execution_count": 2,
      "outputs": [
        {
          "output_type": "stream",
          "text": [
            "[nltk_data] Downloading package punkt to /root/nltk_data...\n",
            "[nltk_data]   Unzipping tokenizers/punkt.zip.\n"
          ],
          "name": "stdout"
        },
        {
          "output_type": "execute_result",
          "data": {
            "text/plain": [
              "True"
            ]
          },
          "metadata": {
            "tags": []
          },
          "execution_count": 2
        }
      ]
    },
    {
      "cell_type": "code",
      "metadata": {
        "id": "_z3ISNv-A5cb",
        "colab_type": "code",
        "colab": {
          "base_uri": "https://localhost:8080/",
          "height": 81
        },
        "outputId": "442e74d8-a1e8-422c-e337-71bedc49c246"
      },
      "source": [
        "import pandas as pd\n",
        "import numpy as np\n",
        "from keras.preprocessing.text import Tokenizer,  text_to_word_sequence\n",
        "from keras.engine.topology import Layer\n",
        "from keras import initializers as initializers, regularizers, constraints\n",
        "from keras.callbacks import Callback, ModelCheckpoint\n",
        "from keras.utils.np_utils import to_categorical\n",
        "from keras.layers import Embedding, Input, Dense, LSTM, GRU, Bidirectional, TimeDistributed, Dropout\n",
        "from keras import backend as K\n",
        "from keras import optimizers\n",
        "from keras.models import Model\n",
        "import nltk\n",
        "import re\n",
        "import matplotlib.pyplot as plt\n",
        "import sys\n",
        "from sklearn.metrics import roc_auc_score\n",
        "from nltk import tokenize\n",
        "import seaborn as sns\n",
        "from sklearn.utils import shuffle\n"
      ],
      "execution_count": 3,
      "outputs": [
        {
          "output_type": "stream",
          "text": [
            "Using TensorFlow backend.\n"
          ],
          "name": "stderr"
        },
        {
          "output_type": "display_data",
          "data": {
            "text/html": [
              "<p style=\"color: red;\">\n",
              "The default version of TensorFlow in Colab will soon switch to TensorFlow 2.x.<br>\n",
              "We recommend you <a href=\"https://www.tensorflow.org/guide/migrate\" target=\"_blank\">upgrade</a> now \n",
              "or ensure your notebook will continue to use TensorFlow 1.x via the <code>%tensorflow_version 1.x</code> magic:\n",
              "<a href=\"https://colab.research.google.com/notebooks/tensorflow_version.ipynb\" target=\"_blank\">more info</a>.</p>\n"
            ],
            "text/plain": [
              "<IPython.core.display.HTML object>"
            ]
          },
          "metadata": {
            "tags": []
          }
        }
      ]
    },
    {
      "cell_type": "code",
      "metadata": {
        "id": "x11uAepPBOQY",
        "colab_type": "code",
        "colab": {}
      },
      "source": [
        "def dot_product(x, kernel):\n",
        "    \"\"\"\n",
        "    Wrapper for dot product operation, in order to be compatibl|e with both\n",
        "    Theano and Tensorflow\n",
        "    Args:\n",
        "        x (): input\n",
        "        kernel (): weights\n",
        "    Returns:\n",
        "    \"\"\"\n",
        "    if K.backend() == 'tensorflow':\n",
        "        return K.squeeze(K.dot(x, K.expand_dims(kernel)), axis=-1)\n",
        "    else:\n",
        "        return K.dot(x, kernel)\n",
        "\n",
        "class AttentionWithContext(Layer):\n",
        "    \"\"\"\n",
        "    Attention operation, with a context/query vector, for temporal data.\n",
        "    Supports Masking.\n",
        "    Follows the work of Yang et al. [https://www.cs.cmu.edu/~diyiy/docs/naacl16.pdf]\n",
        "    \"Hierarchical Attention Networks for Document Classification\"\n",
        "    by using a context vector to assist the attention\n",
        "    # Input shape\n",
        "        3D tensor with shape: `(samples, steps, features)`.\n",
        "    # Output shape\n",
        "        2D tensor with shape: `(samples, features)`.\n",
        "    How to use:\n",
        "    Just put it on top of an RNN Layer (GRU/LSTM/SimpleRNN) with return_sequences=True.\n",
        "    The dimensions are inferred based on the output shape of the RNN.\n",
        "    Note: The layer has been tested with Keras 2.0.6\n",
        "    Example:\n",
        "        model.add(LSTM(64, return_sequences=True))\n",
        "        model.add(AttentionWithContext())\n",
        "        # next add a Dense layer (for classification/regression) or whatever...\n",
        "    \"\"\"\n",
        "\n",
        "    def __init__(self,\n",
        "                 W_regularizer=None, u_regularizer=None, b_regularizer=None,\n",
        "                 W_constraint=None, u_constraint=None, b_constraint=None,\n",
        "                 bias=True, **kwargs):\n",
        "\n",
        "        self.supports_masking = True\n",
        "        self.init = initializers.get('glorot_uniform')\n",
        "\n",
        "        self.W_regularizer = regularizers.get(W_regularizer)\n",
        "        self.u_regularizer = regularizers.get(u_regularizer)\n",
        "        self.b_regularizer = regularizers.get(b_regularizer)\n",
        "\n",
        "        self.W_constraint = constraints.get(W_constraint)\n",
        "        self.u_constraint = constraints.get(u_constraint)\n",
        "        self.b_constraint = constraints.get(b_constraint)\n",
        "\n",
        "        self.bias = bias\n",
        "        super(AttentionWithContext, self).__init__(**kwargs)\n",
        "\n",
        "    def build(self, input_shape):\n",
        "        assert len(input_shape) == 3\n",
        "\n",
        "        self.W = self.add_weight((input_shape[-1], input_shape[-1],),\n",
        "                                 initializer=self.init,\n",
        "                                 name='{}_W'.format(self.name),\n",
        "                                 regularizer=self.W_regularizer,\n",
        "                                 constraint=self.W_constraint)\n",
        "        if self.bias:\n",
        "            self.b = self.add_weight((input_shape[-1],),\n",
        "                                     initializer='zero',\n",
        "                                     name='{}_b'.format(self.name),\n",
        "                                     regularizer=self.b_regularizer,\n",
        "                                     constraint=self.b_constraint)\n",
        "\n",
        "        self.u = self.add_weight((input_shape[-1],),\n",
        "                                 initializer=self.init,\n",
        "                                 name='{}_u'.format(self.name),\n",
        "                                 regularizer=self.u_regularizer,\n",
        "                                 constraint=self.u_constraint)\n",
        "\n",
        "        super(AttentionWithContext, self).build(input_shape)\n",
        "\n",
        "    def compute_mask(self, input, input_mask=None):\n",
        "        # do not pass the mask to the next layers\n",
        "        return None\n",
        "\n",
        "    def call(self, x, mask=None):\n",
        "        uit = dot_product(x, self.W)\n",
        "\n",
        "        if self.bias:\n",
        "            uit += self.b\n",
        "\n",
        "        uit = K.tanh(uit)\n",
        "        ait = dot_product(uit, self.u)\n",
        "\n",
        "        a = K.exp(ait)\n",
        "\n",
        "        # apply mask after the exp. will be re-normalized next\n",
        "        if mask is not None:\n",
        "            # Cast the mask to floatX to avoid float64 upcasting in theano\n",
        "            a *= K.cast(mask, K.floatx())\n",
        "\n",
        "        # in some cases especially in the early stages of training the sum may be almost zero\n",
        "        # and this results in NaN's. A workaround is to add a very small positive number ε to the sum.\n",
        "        # a /= K.cast(K.sum(a, axis=1, keepdims=True), K.floatx())\n",
        "        a /= K.cast(K.sum(a, axis=1, keepdims=True) + K.epsilon(), K.floatx())\n",
        "\n",
        "        a = K.expand_dims(a)\n",
        "        weighted_input = x * a\n",
        "        return K.sum(weighted_input, axis=1)\n",
        "\n",
        "    def compute_output_shape(self, input_shape):\n",
        "        return input_shape[0], input_shape[-1]"
      ],
      "execution_count": 0,
      "outputs": []
    },
    {
      "cell_type": "code",
      "metadata": {
        "id": "gqksP7zgBXo7",
        "colab_type": "code",
        "outputId": "c95016a7-009c-4038-cfd2-8240f91327f2",
        "colab": {
          "base_uri": "https://localhost:8080/",
          "height": 72
        }
      },
      "source": [
        " data_frame = shuffle(pd.read_csv('drive/My Drive/Colab Notebooks/dataset/yelp2014train.ss',sep='\\t\\t', names=[\"user\", \"business(product)\", \"rating\", \"review\"])).reset_index()\n",
        "data_frame = data_frame[0:60000]"
      ],
      "execution_count": 5,
      "outputs": [
        {
          "output_type": "stream",
          "text": [
            "/usr/local/lib/python3.6/dist-packages/ipykernel_launcher.py:1: ParserWarning: Falling back to the 'python' engine because the 'c' engine does not support regex separators (separators > 1 char and different from '\\s+' are interpreted as regex); you can avoid this warning by specifying engine='python'.\n",
            "  \"\"\"Entry point for launching an IPython kernel.\n"
          ],
          "name": "stderr"
        }
      ]
    },
    {
      "cell_type": "code",
      "metadata": {
        "id": "s2MjdJHqbS2u",
        "colab_type": "code",
        "colab": {}
      },
      "source": [
        "df = data_frame[['review', 'rating']]\n",
        "rating = df['rating']\n",
        "review = df['review']"
      ],
      "execution_count": 0,
      "outputs": []
    },
    {
      "cell_type": "code",
      "metadata": {
        "id": "4Y4EppEmfMRa",
        "colab_type": "code",
        "outputId": "b0dad70f-5ca2-4ad7-d2dc-d8b26bc96843",
        "colab": {
          "base_uri": "https://localhost:8080/",
          "height": 156
        }
      },
      "source": [
        "cates = df.groupby('rating')\n",
        "print(\"total categories:\", cates.ngroups)\n",
        "print(cates.size())"
      ],
      "execution_count": 7,
      "outputs": [
        {
          "output_type": "stream",
          "text": [
            "total categories: 5\n",
            "rating\n",
            "1     2365\n",
            "2     5307\n",
            "3    11954\n",
            "4    23784\n",
            "5    16590\n",
            "dtype: int64\n"
          ],
          "name": "stdout"
        }
      ]
    },
    {
      "cell_type": "code",
      "metadata": {
        "id": "AoFCRWCUkHKY",
        "colab_type": "code",
        "colab": {}
      },
      "source": [
        "import re\n",
        "def clean_str(string):\n",
        "    \"\"\"\n",
        "    Tokenization/string cleaning for dataset\n",
        "    Every dataset is lower cased except\n",
        "    \"\"\"\n",
        "    string = re.sub(r\"\\\\\", \"\", string)    \n",
        "    string = re.sub(r\"\\'\", \"\", string)    \n",
        "    string = re.sub(r\"\\\"\", \"\", string)    \n",
        "    return string.strip().lower()"
      ],
      "execution_count": 0,
      "outputs": []
    },
    {
      "cell_type": "code",
      "metadata": {
        "id": "rpAKSzWsgv9o",
        "colab_type": "code",
        "colab": {}
      },
      "source": [
        "paras = []\n",
        "labels = []\n",
        "texts = []\n",
        "sentence_lens = []\n",
        "sentence_nums = []\n",
        "for idx in range(df.review.shape[0]):\n",
        "    text = clean_str(df.review[idx])\n",
        "    texts.append(text)\n",
        "    sentences = tokenize.sent_tokenize(text)\n",
        "    sentence_nums.append(len(sentences))\n",
        "    for sent in sentences:\n",
        "        sentence_lens.append(len(text_to_word_sequence(sent)))\n",
        "    paras.append(sentences)"
      ],
      "execution_count": 0,
      "outputs": []
    },
    {
      "cell_type": "code",
      "metadata": {
        "id": "HIOYHsi3c620",
        "colab_type": "code",
        "outputId": "8b79ee4d-02fb-478c-de23-6b69d362c255",
        "colab": {
          "base_uri": "https://localhost:8080/",
          "height": 265
        }
      },
      "source": [
        "sns.distplot(sentence_lens, bins=100)\n",
        "plt.show()"
      ],
      "execution_count": 10,
      "outputs": [
        {
          "output_type": "display_data",
          "data": {
            "image/png": "[encoded data removed]",
            "text/plain": [
              "<Figure size 432x288 with 1 Axes>"
            ]
          },
          "metadata": {
            "tags": []
          }
        }
      ]
    },
    {
      "cell_type": "code",
      "metadata": {
        "id": "oUAYJb3adRmp",
        "colab_type": "code",
        "outputId": "db4cb7a3-7508-4f9a-c41c-3d49fad243ad",
        "colab": {
          "base_uri": "https://localhost:8080/",
          "height": 265
        }
      },
      "source": [
        "sns.distplot(sentence_nums)\n",
        "plt.show()"
      ],
      "execution_count": 11,
      "outputs": [
        {
          "output_type": "display_data",
          "data": {
            "image/png": "[encoded data removed]",
            "text/plain": [
              "<Figure size 432x288 with 1 Axes>"
            ]
          },
          "metadata": {
            "tags": []
          }
        }
      ]
    },
    {
      "cell_type": "code",
      "metadata": {
        "id": "W7y_eu8UlfRB",
        "colab_type": "code",
        "colab": {}
      },
      "source": [
        "max_features=200000\n",
        "max_senten_len=40\n",
        "max_senten_num=6\n",
        "embed_size=100\n",
        "VALIDATION_SPLIT = 0.2"
      ],
      "execution_count": 0,
      "outputs": []
    },
    {
      "cell_type": "code",
      "metadata": {
        "id": "w2yYlfx5lQ3g",
        "colab_type": "code",
        "colab": {}
      },
      "source": [
        "tokenizer = Tokenizer(num_words=max_features, oov_token=True)\n",
        "tokenizer.fit_on_texts(texts)"
      ],
      "execution_count": 0,
      "outputs": []
    },
    {
      "cell_type": "code",
      "metadata": {
        "id": "57eCRugilaAq",
        "colab_type": "code",
        "colab": {}
      },
      "source": [
        "data = np.zeros((len(texts), max_senten_num, max_senten_len), dtype='int32')\n",
        "for i, sentences in enumerate(paras):\n",
        "    for j, sent in enumerate(sentences):\n",
        "        if j< max_senten_num:\n",
        "            wordTokens = text_to_word_sequence(sent)\n",
        "            k=0\n",
        "            for _, word in enumerate(wordTokens):\n",
        "                try:\n",
        "                    if k<max_senten_len and tokenizer.word_index[word]<max_features:\n",
        "                        data[i,j,k] = tokenizer.word_index[word]\n",
        "                        k=k+1\n",
        "                except:\n",
        "                    print(word)\n",
        "                    pass"
      ],
      "execution_count": 0,
      "outputs": []
    },
    {
      "cell_type": "code",
      "metadata": {
        "id": "uUt4l6Qcl3Ul",
        "colab_type": "code",
        "outputId": "66c65ac4-1f73-4f7d-e19f-f174eb3679d1",
        "colab": {
          "base_uri": "https://localhost:8080/",
          "height": 34
        }
      },
      "source": [
        "data.shape"
      ],
      "execution_count": 15,
      "outputs": [
        {
          "output_type": "execute_result",
          "data": {
            "text/plain": [
              "(60000, 6, 40)"
            ]
          },
          "metadata": {
            "tags": []
          },
          "execution_count": 15
        }
      ]
    },
    {
      "cell_type": "code",
      "metadata": {
        "id": "ef4qXIcrmMBV",
        "colab_type": "code",
        "outputId": "516ec690-ec21-4860-c06e-4fe6cbbeb65c",
        "colab": {
          "base_uri": "https://localhost:8080/",
          "height": 34
        }
      },
      "source": [
        "word_index = tokenizer.word_index\n",
        "print('Total %s unique tokens.' % len(word_index))"
      ],
      "execution_count": 16,
      "outputs": [
        {
          "output_type": "stream",
          "text": [
            "Total 67951 unique tokens.\n"
          ],
          "name": "stdout"
        }
      ]
    },
    {
      "cell_type": "code",
      "metadata": {
        "id": "KUr-WHS3mqJU",
        "colab_type": "code",
        "colab": {}
      },
      "source": [
        "labels = pd.get_dummies(rating)"
      ],
      "execution_count": 0,
      "outputs": []
    },
    {
      "cell_type": "code",
      "metadata": {
        "id": "YOkfZMUVmvTo",
        "colab_type": "code",
        "outputId": "baecb0bc-af95-430f-c297-c8c8a5df57d3",
        "colab": {
          "base_uri": "https://localhost:8080/",
          "height": 34
        }
      },
      "source": [
        "labels.shape"
      ],
      "execution_count": 18,
      "outputs": [
        {
          "output_type": "execute_result",
          "data": {
            "text/plain": [
              "(60000, 5)"
            ]
          },
          "metadata": {
            "tags": []
          },
          "execution_count": 18
        }
      ]
    },
    {
      "cell_type": "code",
      "metadata": {
        "id": "G4QUvwtqnFKB",
        "colab_type": "code",
        "outputId": "645225b0-4af6-4af2-9086-3e7183ec91ef",
        "colab": {
          "base_uri": "https://localhost:8080/",
          "height": 52
        }
      },
      "source": [
        "print('Shape of data tensor:', data.shape)\n",
        "print('Shape of labels tensor:', labels.shape)"
      ],
      "execution_count": 19,
      "outputs": [
        {
          "output_type": "stream",
          "text": [
            "Shape of data tensor: (60000, 6, 40)\n",
            "Shape of labels tensor: (60000, 5)\n"
          ],
          "name": "stdout"
        }
      ]
    },
    {
      "cell_type": "code",
      "metadata": {
        "id": "D5Wxo0ztndvi",
        "colab_type": "code",
        "outputId": "ba580791-0866-48b8-9081-2e6d442c84b5",
        "colab": {
          "base_uri": "https://localhost:8080/",
          "height": 86
        }
      },
      "source": [
        "indices = np.arange(data.shape[0])\n",
        "np.random.shuffle(indices)\n",
        "data = data[indices]\n",
        "labels = labels.iloc[indices]\n",
        "nb_validation_samples = int(VALIDATION_SPLIT * data.shape[0])\n",
        "\n",
        "x_train = data[:-nb_validation_samples]\n",
        "y_train = labels[:-nb_validation_samples]\n",
        "x_val = data[-nb_validation_samples:]\n",
        "y_val = labels[-nb_validation_samples:]\n",
        "print('Number of positive and negative reviews in traing and validation set')\n",
        "print(y_train.columns.tolist())\n",
        "print(y_train.sum(axis=0).tolist())\n",
        "print(y_val.sum(axis=0).tolist())"
      ],
      "execution_count": 20,
      "outputs": [
        {
          "output_type": "stream",
          "text": [
            "Number of positive and negative reviews in traing and validation set\n",
            "[1, 2, 3, 4, 5]\n",
            "[1892, 4242, 9559, 19063, 13244]\n",
            "[473, 1065, 2395, 4721, 3346]\n"
          ],
          "name": "stdout"
        }
      ]
    },
    {
      "cell_type": "markdown",
      "metadata": {
        "id": "-adESMiionVf",
        "colab_type": "text"
      },
      "source": [
        "##Model"
      ]
    },
    {
      "cell_type": "code",
      "metadata": {
        "id": "KvRnBahkvarY",
        "colab_type": "code",
        "outputId": "9731b86c-fd1f-44a7-fe02-230e43bc567f",
        "colab": {
          "base_uri": "https://localhost:8080/",
          "height": 34
        }
      },
      "source": [
        "import os\n",
        "GLOVE_DIR = \"drive/My Drive/Colab Notebooks/dataset/glove.6B.100d.txt\"\n",
        "embeddings_index = {}\n",
        "f = open(GLOVE_DIR)\n",
        "for line in f:\n",
        "    try:\n",
        "        values = line.split()\n",
        "        word = values[0]\n",
        "        coefs = np.asarray(values[1:], dtype='float32')\n",
        "        embeddings_index[word] = coefs\n",
        "    except:\n",
        "        print(word)\n",
        "        pass\n",
        "f.close()\n",
        "print('Total %s word vectors.' % len(embeddings_index))"
      ],
      "execution_count": 21,
      "outputs": [
        {
          "output_type": "stream",
          "text": [
            "Total 400000 word vectors.\n"
          ],
          "name": "stdout"
        }
      ]
    },
    {
      "cell_type": "code",
      "metadata": {
        "id": "V4ywLUM6v9XX",
        "colab_type": "code",
        "outputId": "3ca3d918-d60a-4ca9-a26f-6e8943c357d0",
        "colab": {
          "base_uri": "https://localhost:8080/",
          "height": 34
        }
      },
      "source": [
        "embedding_matrix = np.zeros((len(word_index) + 1, embed_size))\n",
        "absent_words = 0\n",
        "for word, i in word_index.items():\n",
        "    embedding_vector = embeddings_index.get(word)\n",
        "    if embedding_vector is not None:\n",
        "        # words not found in embedding index will be all-zeros.\n",
        "        embedding_matrix[i] = embedding_vector\n",
        "    else:\n",
        "        absent_words += 1\n",
        "print('Total absent words are', absent_words, 'which is', \"%0.2f\" % (absent_words * 100 / len(word_index)), '% of total words')"
      ],
      "execution_count": 22,
      "outputs": [
        {
          "output_type": "stream",
          "text": [
            "Total absent words are 21384 which is 31.47 % of total words\n"
          ],
          "name": "stdout"
        }
      ]
    },
    {
      "cell_type": "code",
      "metadata": {
        "id": "PBVL89abwDWp",
        "colab_type": "code",
        "colab": {
          "base_uri": "https://localhost:8080/",
          "height": 72
        },
        "outputId": "0fc0e50f-fe8b-48e4-ea94-876d85fbb90a"
      },
      "source": [
        "embedding_layer = Embedding(len(word_index) + 1,embed_size,weights=[embedding_matrix], input_length=max_senten_len, trainable=False)"
      ],
      "execution_count": 23,
      "outputs": [
        {
          "output_type": "stream",
          "text": [
            "WARNING:tensorflow:From /usr/local/lib/python3.6/dist-packages/keras/backend/tensorflow_backend.py:66: The name tf.get_default_graph is deprecated. Please use tf.compat.v1.get_default_graph instead.\n",
            "\n"
          ],
          "name": "stdout"
        }
      ]
    },
    {
      "cell_type": "code",
      "metadata": {
        "id": "AWNCeyg7wGKB",
        "colab_type": "code",
        "colab": {
          "base_uri": "https://localhost:8080/",
          "height": 471
        },
        "outputId": "278307e5-1cd9-4304-f33b-a530054651ed"
      },
      "source": [
        "from keras import regularizers\n",
        "REG_PARAM = 4e-4\n",
        "l2_reg = regularizers.l2(REG_PARAM)\n",
        "word_input = Input(shape=(max_senten_len,), dtype='float32')\n",
        "word_sequences = embedding_layer(word_input)\n",
        "word_lstm = Bidirectional(LSTM(150, return_sequences=True, kernel_regularizer=l2_reg))(word_sequences)\n",
        "word_dense = TimeDistributed(Dense(300, kernel_regularizer=l2_reg))(word_lstm)\n",
        "word_att = AttentionWithContext()(word_dense)\n",
        "wordEncoder = Model(word_input, word_att)\n",
        "\n",
        "sent_input = Input(shape=(max_senten_num, max_senten_len), dtype='float32')\n",
        "sent_encoder = TimeDistributed(wordEncoder)(sent_input)\n",
        "sent_lstm = Bidirectional(LSTM(150, return_sequences=True, kernel_regularizer=l2_reg))(sent_encoder)\n",
        "sent_dense = TimeDistributed(Dense(300, kernel_regularizer=l2_reg))(sent_lstm)\n",
        "sent_att = Dropout(0.5)(AttentionWithContext()(sent_dense))\n",
        "preds = Dense(5, activation='softmax')(sent_att)\n",
        "model = Model(sent_input, preds)\n",
        "model.compile(loss='categorical_crossentropy',optimizer='adam',metrics=['acc'])"
      ],
      "execution_count": 24,
      "outputs": [
        {
          "output_type": "stream",
          "text": [
            "WARNING:tensorflow:From /usr/local/lib/python3.6/dist-packages/keras/backend/tensorflow_backend.py:541: The name tf.placeholder is deprecated. Please use tf.compat.v1.placeholder instead.\n",
            "\n",
            "WARNING:tensorflow:From /usr/local/lib/python3.6/dist-packages/keras/backend/tensorflow_backend.py:4432: The name tf.random_uniform is deprecated. Please use tf.random.uniform instead.\n",
            "\n",
            "WARNING:tensorflow:From /usr/local/lib/python3.6/dist-packages/keras/backend/tensorflow_backend.py:190: The name tf.get_default_session is deprecated. Please use tf.compat.v1.get_default_session instead.\n",
            "\n",
            "WARNING:tensorflow:From /usr/local/lib/python3.6/dist-packages/keras/backend/tensorflow_backend.py:197: The name tf.ConfigProto is deprecated. Please use tf.compat.v1.ConfigProto instead.\n",
            "\n",
            "WARNING:tensorflow:From /usr/local/lib/python3.6/dist-packages/keras/backend/tensorflow_backend.py:203: The name tf.Session is deprecated. Please use tf.compat.v1.Session instead.\n",
            "\n",
            "WARNING:tensorflow:From /usr/local/lib/python3.6/dist-packages/keras/backend/tensorflow_backend.py:207: The name tf.global_variables is deprecated. Please use tf.compat.v1.global_variables instead.\n",
            "\n",
            "WARNING:tensorflow:From /usr/local/lib/python3.6/dist-packages/keras/backend/tensorflow_backend.py:216: The name tf.is_variable_initialized is deprecated. Please use tf.compat.v1.is_variable_initialized instead.\n",
            "\n",
            "WARNING:tensorflow:From /usr/local/lib/python3.6/dist-packages/keras/backend/tensorflow_backend.py:223: The name tf.variables_initializer is deprecated. Please use tf.compat.v1.variables_initializer instead.\n",
            "\n",
            "WARNING:tensorflow:From /usr/local/lib/python3.6/dist-packages/keras/backend/tensorflow_backend.py:148: The name tf.placeholder_with_default is deprecated. Please use tf.compat.v1.placeholder_with_default instead.\n",
            "\n",
            "WARNING:tensorflow:From /usr/local/lib/python3.6/dist-packages/keras/backend/tensorflow_backend.py:3733: calling dropout (from tensorflow.python.ops.nn_ops) with keep_prob is deprecated and will be removed in a future version.\n",
            "Instructions for updating:\n",
            "Please use `rate` instead of `keep_prob`. Rate should be set to `rate = 1 - keep_prob`.\n",
            "WARNING:tensorflow:From /usr/local/lib/python3.6/dist-packages/keras/optimizers.py:793: The name tf.train.Optimizer is deprecated. Please use tf.compat.v1.train.Optimizer instead.\n",
            "\n",
            "WARNING:tensorflow:From /usr/local/lib/python3.6/dist-packages/keras/backend/tensorflow_backend.py:3576: The name tf.log is deprecated. Please use tf.math.log instead.\n",
            "\n"
          ],
          "name": "stdout"
        }
      ]
    },
    {
      "cell_type": "code",
      "metadata": {
        "id": "FTIzt3l3wK2E",
        "colab_type": "code",
        "colab": {}
      },
      "source": [
        "from keras.callbacks import ModelCheckpoint\n",
        "checkpoint = ModelCheckpoint('drive/My Drive/Colab Notebooks/weights/HAN_model.h5', verbose=0, monitor='val_loss',save_best_only=True, mode='auto') "
      ],
      "execution_count": 0,
      "outputs": []
    },
    {
      "cell_type": "code",
      "metadata": {
        "id": "RvFNZLmyw4ws",
        "colab_type": "code",
        "outputId": "64c342a1-cacd-4888-fc4d-37709b94d36b",
        "colab": {
          "base_uri": "https://localhost:8080/",
          "height": 871
        }
      },
      "source": [
        "# model.load_weights(\"drive/My Drive/Colab Notebooks/weights/HAN_model.h5\")\n",
        "model.compile(loss='categorical_crossentropy',optimizer='adam',metrics=['acc'])\n",
        "history = model.fit(x_train, y_train, validation_data=(x_val, y_val), epochs=20, batch_size=512, callbacks=[checkpoint])"
      ],
      "execution_count": 26,
      "outputs": [
        {
          "output_type": "stream",
          "text": [
            "WARNING:tensorflow:From /usr/local/lib/python3.6/dist-packages/tensorflow_core/python/ops/math_grad.py:1424: where (from tensorflow.python.ops.array_ops) is deprecated and will be removed in a future version.\n",
            "Instructions for updating:\n",
            "Use tf.where in 2.0, which has the same broadcast rule as np.where\n",
            "WARNING:tensorflow:From /usr/local/lib/python3.6/dist-packages/keras/backend/tensorflow_backend.py:1033: The name tf.assign_add is deprecated. Please use tf.compat.v1.assign_add instead.\n",
            "\n",
            "WARNING:tensorflow:From /usr/local/lib/python3.6/dist-packages/keras/backend/tensorflow_backend.py:1020: The name tf.assign is deprecated. Please use tf.compat.v1.assign instead.\n",
            "\n",
            "Train on 48000 samples, validate on 12000 samples\n",
            "Epoch 1/20\n",
            "48000/48000 [==============================] - 28s 581us/step - loss: 1.6919 - acc: 0.4214 - val_loss: 1.4630 - val_acc: 0.4538\n",
            "Epoch 2/20\n",
            "48000/48000 [==============================] - 24s 502us/step - loss: 1.3704 - acc: 0.4769 - val_loss: 1.3152 - val_acc: 0.4891\n",
            "Epoch 3/20\n",
            "48000/48000 [==============================] - 24s 504us/step - loss: 1.2895 - acc: 0.4865 - val_loss: 1.2680 - val_acc: 0.4932\n",
            "Epoch 4/20\n",
            "48000/48000 [==============================] - 24s 502us/step - loss: 1.2355 - acc: 0.5001 - val_loss: 1.2386 - val_acc: 0.5021\n",
            "Epoch 5/20\n",
            "48000/48000 [==============================] - 24s 502us/step - loss: 1.2079 - acc: 0.5062 - val_loss: 1.2029 - val_acc: 0.5046\n",
            "Epoch 6/20\n",
            "48000/48000 [==============================] - 24s 503us/step - loss: 1.1785 - acc: 0.5090 - val_loss: 1.1754 - val_acc: 0.5167\n",
            "Epoch 7/20\n",
            "48000/48000 [==============================] - 24s 503us/step - loss: 1.1588 - acc: 0.5158 - val_loss: 1.1633 - val_acc: 0.5148\n",
            "Epoch 8/20\n",
            "48000/48000 [==============================] - 24s 507us/step - loss: 1.1420 - acc: 0.5197 - val_loss: 1.1531 - val_acc: 0.5189\n",
            "Epoch 9/20\n",
            "48000/48000 [==============================] - 24s 504us/step - loss: 1.1350 - acc: 0.5226 - val_loss: 1.1569 - val_acc: 0.5164\n",
            "Epoch 10/20\n",
            "48000/48000 [==============================] - 24s 503us/step - loss: 1.1248 - acc: 0.5279 - val_loss: 1.1461 - val_acc: 0.5165\n",
            "Epoch 11/20\n",
            "48000/48000 [==============================] - 24s 506us/step - loss: 1.1147 - acc: 0.5310 - val_loss: 1.1398 - val_acc: 0.5216\n",
            "Epoch 12/20\n",
            "48000/48000 [==============================] - 24s 504us/step - loss: 1.1003 - acc: 0.5362 - val_loss: 1.1443 - val_acc: 0.5213\n",
            "Epoch 13/20\n",
            "48000/48000 [==============================] - 24s 507us/step - loss: 1.0904 - acc: 0.5404 - val_loss: 1.1300 - val_acc: 0.5251\n",
            "Epoch 14/20\n",
            "48000/48000 [==============================] - 24s 507us/step - loss: 1.0794 - acc: 0.5454 - val_loss: 1.1635 - val_acc: 0.5147\n",
            "Epoch 15/20\n",
            "48000/48000 [==============================] - 24s 501us/step - loss: 1.0734 - acc: 0.5492 - val_loss: 1.1429 - val_acc: 0.5199\n",
            "Epoch 16/20\n",
            "48000/48000 [==============================] - 24s 502us/step - loss: 1.0646 - acc: 0.5519 - val_loss: 1.1461 - val_acc: 0.5168\n",
            "Epoch 17/20\n",
            "48000/48000 [==============================] - 24s 501us/step - loss: 1.0476 - acc: 0.5630 - val_loss: 1.1531 - val_acc: 0.5163\n",
            "Epoch 18/20\n",
            "48000/48000 [==============================] - 24s 502us/step - loss: 1.0369 - acc: 0.5651 - val_loss: 1.1472 - val_acc: 0.5253\n",
            "Epoch 19/20\n",
            "48000/48000 [==============================] - 24s 502us/step - loss: 1.0262 - acc: 0.5744 - val_loss: 1.1779 - val_acc: 0.5107\n",
            "Epoch 20/20\n",
            "48000/48000 [==============================] - 24s 502us/step - loss: 1.0124 - acc: 0.5807 - val_loss: 1.1697 - val_acc: 0.5238\n"
          ],
          "name": "stdout"
        }
      ]
    },
    {
      "cell_type": "code",
      "metadata": {
        "id": "DvEnH2Udw7xD",
        "colab_type": "code",
        "outputId": "8d22ffa9-b77a-4447-cfc5-4a84e0bb5745",
        "colab": {
          "base_uri": "https://localhost:8080/",
          "height": 295
        }
      },
      "source": [
        "# summarize history for accuracy\n",
        "plt.plot(history.history['acc'])\n",
        "plt.plot(history.history['val_acc'])\n",
        "plt.title('HAN model accuracy')\n",
        "plt.ylabel('accuracy')\n",
        "plt.xlabel('epoch')\n",
        "plt.legend(['train', 'test'], loc='upper left')\n",
        "plt.show()"
      ],
      "execution_count": 27,
      "outputs": [
        {
          "output_type": "display_data",
          "data": {
            "image/png": "[encoded data removed]",
            "text/plain": [
              "<Figure size 432x288 with 1 Axes>"
            ]
          },
          "metadata": {
            "tags": []
          }
        }
      ]
    },
    {
      "cell_type": "code",
      "metadata": {
        "id": "DSDyEsi11BPe",
        "colab_type": "code",
        "outputId": "384589f6-a91b-46f5-da81-ea0b8b10ed22",
        "colab": {
          "base_uri": "https://localhost:8080/",
          "height": 295
        }
      },
      "source": [
        "# summarize history for loss\n",
        "plt.plot(history.history['loss'])\n",
        "plt.plot(history.history['val_loss'])\n",
        "plt.title('HAN model loss')\n",
        "plt.ylabel('loss')\n",
        "plt.xlabel('epoch')\n",
        "plt.legend(['train', 'test'], loc='upper right')\n",
        "plt.show()"
      ],
      "execution_count": 28,
      "outputs": [
        {
          "output_type": "display_data",
          "data": {
            "image/png": "[encoded data removed]",
            "text/plain": [
              "<Figure size 432x288 with 1 Axes>"
            ]
          },
          "metadata": {
            "tags": []
          }
        }
      ]
    },
    {
      "cell_type": "code",
      "metadata": {
        "id": "yQLObWIo1Ioa",
        "colab_type": "code",
        "colab": {}
      },
      "source": [
        "model.save('drive/My Drive/Colab Notebooks/model/HAN.h5')"
      ],
      "execution_count": 0,
      "outputs": []
    }
  ]
}